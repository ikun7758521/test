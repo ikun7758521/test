{
 "cells": [
  {
   "cell_type": "code",
   "execution_count": 1,
   "id": "0e8919c0",
   "metadata": {},
   "outputs": [
    {
     "name": "stdout",
     "output_type": "stream",
     "text": [
      "[[-1.]\n",
      " [ 2.]]\n",
      "[[0.]\n",
      " [0.]]\n"
     ]
    }
   ],
   "source": [
    "import numpy as np\n",
    "from scipy.linalg import solve\n",
    "A = np.array([[1,2],[2,5]])\n",
    "B = np.array([[3],[8]])\n",
    "\n",
    "x=solve(A,B)\n",
    "print(x)\n",
    "print(A.dot(x) - B)"
   ]
  },
  {
   "cell_type": "code",
   "execution_count": 3,
   "id": "ffd94003",
   "metadata": {},
   "outputs": [
    {
     "name": "stdout",
     "output_type": "stream",
     "text": [
      "The problem is infeasible. (HiGHS Status 8: model_status is Infeasible; primal_status is At lower/fixed bound)\n",
      "None\n",
      "None\n"
     ]
    }
   ],
   "source": [
    "import numpy as np\n",
    "from scipy.optimize import linprog\n",
    "c = np.array([-6,4])\n",
    "A_ub = np.array([[-1,2],[1,0],[0,1]])\n",
    "b_ub = np.array([-4,3,3])\n",
    "\n",
    "x1_bounds = (0,None)\n",
    "x2_bounds = (0,None)\n",
    "\n",
    "bounds = [x1_bounds,x2_bounds]\n",
    "result = linprog(c,A_ub=A_ub,b_ub=b_ub,bounds=bounds)\n",
    "print(result.message)\n",
    "print(result.x)\n",
    "print(result.fun)"
   ]
  },
  {
   "cell_type": "code",
   "execution_count": null,
   "id": "1c7256b7",
   "metadata": {},
   "outputs": [],
   "source": []
  }
 ],
 "metadata": {
  "kernelspec": {
   "display_name": "Python 3 (ipykernel)",
   "language": "python",
   "name": "python3"
  },
  "language_info": {
   "codemirror_mode": {
    "name": "ipython",
    "version": 3
   },
   "file_extension": ".py",
   "mimetype": "text/x-python",
   "name": "python",
   "nbconvert_exporter": "python",
   "pygments_lexer": "ipython3",
   "version": "3.11.5"
  }
 },
 "nbformat": 4,
 "nbformat_minor": 5
}
